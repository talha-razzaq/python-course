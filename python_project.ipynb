{
 "cells": [
  {
   "cell_type": "markdown",
   "id": "2fc2519e",
   "metadata": {},
   "source": [
    "# 1) Odd /Even exercise"
   ]
  },
  {
   "cell_type": "code",
   "execution_count": null,
   "id": "089b930e",
   "metadata": {},
   "outputs": [
    {
     "name": "stdout",
     "output_type": "stream",
     "text": [
      "THIS IS VERY BASIC EXAMPLE OF ODD/EVEN NUMBERS\n"
     ]
    }
   ],
   "source": [
    "print(\"THIS IS VERY BASIC EXAMPLE OF ODD/EVEN NUMBERS\")\n",
    "num= int(input(\"Enter the number here=\"))\n",
    "number = num % 2\n",
    "if number == 0:\n",
    "    print(\"You picked an even number\", num)\n",
    "    print(\"Enjoy!\")\n",
    "else:\n",
    "    print(\"You picked an odd number\", num)\n",
    "    print(\"Enjoy!\")"
   ]
  },
  {
   "cell_type": "markdown",
   "id": "3e966039",
   "metadata": {},
   "source": [
    "# 2) Odd /Even exercise complex"
   ]
  },
  {
   "cell_type": "code",
   "execution_count": null,
   "id": "c506be3d",
   "metadata": {},
   "outputs": [],
   "source": [
    "print(\"THIS IS COMPLEX EXAMPLE OF EVEN/ODD NUMBER\")\n",
    "num = int(input(\"Enter the number =\"))\n",
    "check = int(input(\"Enter the number divided by \"))\n",
    "\n",
    "if  num % 2 == 0:\n",
    "    print(num, \"is an even number\")\n",
    "else:\n",
    "    print(num, \"is an odd number\")\n",
    "    \n",
    "if num % check == 0:\n",
    "    print(num, \"divides evenly by \", check)\n",
    "else:\n",
    "    print(num, \"does not divides evenly by\", check)"
   ]
  },
  {
   "cell_type": "markdown",
   "id": "0261b80d",
   "metadata": {},
   "source": [
    "# 3) Input charater exercise"
   ]
  },
  {
   "cell_type": "code",
   "execution_count": null,
   "id": "e6ef5088",
   "metadata": {},
   "outputs": [],
   "source": [
    "name = input(\"Enter your name= \")\n",
    "age = int(input(\"Enter you age= \"))\n",
    "\n",
    "year = 2022 - age + 100\n",
    "print(name, \"you will be 100 years old in the year\", str(year))"
   ]
  },
  {
   "cell_type": "markdown",
   "id": "60b688af",
   "metadata": {},
   "source": [
    "# 4) List Less Than Ten exercise"
   ]
  },
  {
   "cell_type": "code",
   "execution_count": null,
   "id": "ecd4fbf4",
   "metadata": {},
   "outputs": [],
   "source": [
    "a = [1, 1, 2, 3, 5, 8, 13, 21, 34, 55, 89]\n",
    "for  i in a:\n",
    "    if i < 5:\n",
    "        print(i)\n",
    "        \n",
    "print ([x for x in a if x<5])"
   ]
  },
  {
   "cell_type": "code",
   "execution_count": null,
   "id": "cb7be112",
   "metadata": {},
   "outputs": [],
   "source": [
    "print(\"Complex example\")\n",
    "numbers = [7,3,13,6,8,5,1,2,4,15,9,10,12,14,30, 41,23,67,78,56,34,3,32,41,0,77,11]\n",
    "\n",
    "lessFnums = []\n",
    "lessNnums= []\n",
    "\n",
    "for num in numbers:\n",
    "    if num < 5:\n",
    "        lessFnums.append(num)\n",
    "        lessFnums.sort()\n",
    "    \n",
    "print(lessFnums)\n",
    "\n",
    "\n",
    "num = int(input(\"Enter the number = \"))\n",
    "for n in num:\n",
    "    if n < num:\n",
    "        lessNnums.append(n)\n",
    "        lessNnums.sort()\n",
    "        \n",
    "\n"
   ]
  },
  {
   "cell_type": "code",
   "execution_count": null,
   "id": "58ac1dff",
   "metadata": {},
   "outputs": [],
   "source": [
    "#__author__ = 'jeffreyhunt'\n",
    "\n",
    "num = int(input(\"Please choose a number to divide: \"))\n",
    "\n",
    "listRange = list(range(1,num+1))\n",
    "\n",
    "divisorList = []\n",
    "\n",
    "for number in listRange:\n",
    "    if num % number == 0:\n",
    "        divisorList.append(number)\n",
    "\n",
    "print(divisorList)"
   ]
  },
  {
   "cell_type": "markdown",
   "id": "16562c4b",
   "metadata": {},
   "source": [
    "# 5) Divisors exercise"
   ]
  },
  {
   "cell_type": "code",
   "execution_count": null,
   "id": "3135081d",
   "metadata": {},
   "outputs": [],
   "source": [
    "__author__ = \"Talha razzaq\"\n",
    "\n",
    "num = int(input(\"Please chose the number to divide= \"))\n",
    "\n",
    "List_Range = list(range(1, num + 1))\n",
    "\n",
    "division_range = []\n",
    "\n",
    "for number in List_Range:\n",
    "    if num % number == 0:\n",
    "        division_list.append(number)\n",
    "        \n",
    "print(division_list)"
   ]
  },
  {
   "cell_type": "markdown",
   "id": "93d6fabc",
   "metadata": {},
   "source": [
    "# 6) String List exercise"
   ]
  },
  {
   "cell_type": "code",
   "execution_count": null,
   "id": "1e881dc8",
   "metadata": {
    "scrolled": true
   },
   "outputs": [],
   "source": [
    "word = input(\"What is your words = \")\n",
    "word = str(word)\n",
    "res = word[:  : -1]\n",
    "print(res)\n",
    "\n",
    "if word == res:\n",
    "    print(\"This word is a palidrome\")\n",
    "    \n",
    "else:\n",
    "    print(\"This word is not palidrome\")\n"
   ]
  },
  {
   "cell_type": "markdown",
   "id": "d74701c9",
   "metadata": {},
   "source": [
    "# 7) List Overlap exercise"
   ]
  },
  {
   "cell_type": "code",
   "execution_count": null,
   "id": "365d9111",
   "metadata": {},
   "outputs": [],
   "source": [
    "a = [1, 1, 2, 3, 5, 8, 13, 21, 34, 55, 89]\n",
    "b = [1, 2, 3, 4, 5, 6, 7, 8, 9, 10, 11, 12, 13]\n",
    "#print(list(set([item for item in a if item in b])))\n",
    "print([item for item in a if item in b])"
   ]
  },
  {
   "cell_type": "markdown",
   "id": "99fb1c72",
   "metadata": {},
   "source": [
    "# Student check_list"
   ]
  },
  {
   "cell_type": "code",
   "execution_count": null,
   "id": "013a1df3",
   "metadata": {},
   "outputs": [],
   "source": [
    " list_of_students = [\"Michele\", \"Sara\", \"Cassie\"]\n",
    "\n",
    "name = input(\"Type name to check: \")\n",
    "if name in list_of_students:\n",
    "    print(\"This student is enrolled.\")\n",
    "else:\n",
    "    print(\"This name is not enrolled\")"
   ]
  },
  {
   "cell_type": "markdown",
   "id": "19075a1e",
   "metadata": {},
   "source": [
    "# Rock Paper Scissors exercise"
   ]
  },
  {
   "cell_type": "code",
   "execution_count": 2,
   "id": "0ba17c01",
   "metadata": {},
   "outputs": [
    {
     "name": "stdout",
     "output_type": "stream",
     "text": [
      "What is your name =talha\n",
      "What is your name =usamam\n",
      "talha, do you want to choose the rock, scissors and paperspaper\n",
      "usamam, do you want to choose the rock, scissors and papersrock\n",
      "Scissors win!\n"
     ]
    }
   ],
   "source": [
    "import sys\n",
    "\n",
    "user1= input(\"What is your name =\")\n",
    "user2= input(\"What is your name =\")\n",
    "\n",
    "user1_answer = input(\"%s, do you want to choose the rock, scissors and papers\" %user1)\n",
    "user2_answer = input(\"%s, do you want to choose the rock, scissors and papers\" %user2)\n",
    "\n",
    "def compare(u1, u2):\n",
    "    if u1 == u2:\n",
    "        return (\"It's tie\")\n",
    "    elif u1 == \"rocks\":\n",
    "        if u2 == \"scissors\":\n",
    "            return (\"Rocks wins!\")\n",
    "        else:\n",
    "            return (\"Papers win!\")\n",
    "        \n",
    "    elif u1 == \"scissors\":\n",
    "        if u2 == \"paper\":\n",
    "            return (\"Scissors win!\")\n",
    "        else:\n",
    "                    return (\"Rocks win!\")        \n",
    "    elif u1 == \"paper\":\n",
    "        if u2 == \"rocks\":\n",
    "            return (\"Paper win!\")\n",
    "        else:\n",
    "            return (\"Scissors win!\")\n",
    "    else:\n",
    "            return (\" this is Invild syntax\")\n",
    "            sys.exit()                       \n",
    "                                    \n",
    "print(compare(user1_answer,  user2_answer))"
   ]
  },
  {
   "cell_type": "markdown",
   "id": "adfa0abd",
   "metadata": {},
   "source": [
    "# Random Password exercise"
   ]
  },
  {
   "cell_type": "code",
   "execution_count": 41,
   "id": "61943a77",
   "metadata": {},
   "outputs": [
    {
     "name": "stdout",
     "output_type": "stream",
     "text": [
      "H H Ȧ c\n"
     ]
    }
   ],
   "source": [
    "import random    # import random module\n",
    "\n",
    "def shuffle(string):     # defind a function and put a string\n",
    "    tempList = list(string)      # create a varible and convert string into list\n",
    "    random.shuffle(tempList)     #did randomize\n",
    "    return \" \".join(tempList)  \n",
    "\n",
    "uppercaseLetter1 = chr(random.randint(70, 100))     #Generate a random Uppercase letter\n",
    "uppercaseLetter2 = chr(random.randint(60, 100))     #Generate a random Uppercase letter\n",
    "uppercaseLetter3 = chr(random.randint(75, 100))     #Generate a random Uppercase letter\n",
    "uppercaseLetter4 = chr(random.randint(71, 1000) )   #Generate a random Uppercase letter\n",
    "\n",
    "password = uppercaseLetter1 + uppercaseLetter2 + uppercaseLetter3 + uppercaseLetter4\n",
    "password = shuffle(password)\n",
    "\n",
    "print( password)"
   ]
  },
  {
   "cell_type": "markdown",
   "id": "65df24c7",
   "metadata": {},
   "source": [
    "# List Comprehensions exercise"
   ]
  },
  {
   "cell_type": "code",
   "execution_count": 45,
   "id": "777f8092",
   "metadata": {},
   "outputs": [
    {
     "name": "stdout",
     "output_type": "stream",
     "text": [
      "[4, 16, 36, 64, 100]\n"
     ]
    }
   ],
   "source": [
    "__author__ =  \"Talha razzaq\"\n",
    "\n",
    "a = [1, 4, 9, 16, 25, 36, 49, 64, 81, 100]\n",
    "b = [number for number in  a if number % 2 == 0]\n",
    "\n",
    "print(b)"
   ]
  },
  {
   "cell_type": "markdown",
   "id": "53e68a02",
   "metadata": {},
   "source": [
    "# Guessing Game exercise"
   ]
  },
  {
   "cell_type": "code",
   "execution_count": null,
   "id": "0fee63bf",
   "metadata": {},
   "outputs": [],
   "source": [
    "import random\n",
    "\n",
    "rd = random.randint(1,9)\n",
    "guess = 0\n",
    "c  = 0\n",
    "while guess != rd and  guess != \"exit\":\n",
    "    guess = input(\"Enter a guess between 1 to 9\")\n",
    "    if guess == \"exit\":\n",
    "        break\n",
    "        \n",
    "        guess == int(guess)\n",
    "        c += 1\n",
    "        if guess < rd:\n",
    "            print(\"Too low\")\n",
    "        elif guess > rd:\n",
    "            print(\"Too high\")\n",
    "        else:\n",
    "            print(\"Right!\")\n",
    "            print(\"you took only \", c, \"tries!\")\n",
    "            \n",
    "            \n",
    "            "
   ]
  },
  {
   "cell_type": "code",
   "execution_count": 12,
   "id": "1bf1e0a7",
   "metadata": {},
   "outputs": [
    {
     "name": "stdout",
     "output_type": "stream",
     "text": [
      "Rolling the dice ....\n",
      "The value are ......\n",
      "6\n",
      "6\n",
      "Roll the dice again 12\n"
     ]
    }
   ],
   "source": [
    "import random\n",
    "\n",
    "min = 1\n",
    "max = 6\n",
    "\n",
    "roll_again = \"yes\"\n",
    "\n",
    "while roll_again == \"yes\" or roll_again == \"y\":\n",
    "    print(\"Rolling the dice ....\")\n",
    "    print(\"The value are ......\")\n",
    "    print(random.randint(min, max))\n",
    "    print(random.randint(min, max))\n",
    "    \n",
    "    roll_again =input(\"Roll the dice again \")"
   ]
  },
  {
   "cell_type": "code",
   "execution_count": null,
   "id": "0f410089",
   "metadata": {},
   "outputs": [],
   "source": []
  }
 ],
 "metadata": {
  "kernelspec": {
   "display_name": "Python 3 (ipykernel)",
   "language": "python",
   "name": "python3"
  },
  "language_info": {
   "codemirror_mode": {
    "name": "ipython",
    "version": 3
   },
   "file_extension": ".py",
   "mimetype": "text/x-python",
   "name": "python",
   "nbconvert_exporter": "python",
   "pygments_lexer": "ipython3",
   "version": "3.10.6"
  }
 },
 "nbformat": 4,
 "nbformat_minor": 5
}
